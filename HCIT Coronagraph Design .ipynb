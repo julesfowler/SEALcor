{
 "cells": [
  {
   "cell_type": "markdown",
   "metadata": {},
   "source": [
    "Coronagraph Design\n",
    "=================\n",
    "\n",
    "Main goal here is to design the Classic Lyot Coronagraph for the High Contrast Imaging Testbed at the Lab for Adpative Optics. This means we start with a Keck-like aperture, by which we mean an Iris AO and a mask that simulates the secondary obscuration and spiders. \n",
    "\n",
    "Simple case as reference : literally just a size 1 circular aperture, with everything considered as ratio. \n",
    "\n",
    "Realistic/interesting case : start with our Keck-like/Iris AO+ aperture \n",
    "\n",
    "Wild but maybe feasible case : A hybrid Lyot Stop Situation where we invert the Keck pupil. Some very basic tests show this would be great, but can we actually make this easily? Who's to say. \n",
    "\n",
    "If along the way this becomes a neat reference for coronagraph design, well I guess that's cool too..."
   ]
  },
  {
   "cell_type": "code",
   "execution_count": 1,
   "metadata": {},
   "outputs": [],
   "source": [
    "from hcipy import * # I will fix this someday I promise\n",
    "import matplotlib.pyplot as plt\n",
    "import numpy as np\n",
    "from photutils import CircularAperture, CircularAnnulus"
   ]
  },
  {
   "cell_type": "code",
   "execution_count": 13,
   "metadata": {},
   "outputs": [],
   "source": [
    "# calculate raw contrast at radial annulus cuts -- TODO : redo this in terms of lam/D instead of pix radius\n",
    "# also make sure these hard coded #s are still good as we may have adjusted the pixel grid...\n",
    "def calculate_raw_contrast(image_data, max_ref=1):\n",
    "    \n",
    "    origin = (192/2, 192/2)\n",
    "    max_edge = int(192/2)\n",
    "    annulus_width = lambda_over_d\n",
    "\n",
    "    ring_edges = np.arange(4, max_edge, 3)\n",
    "    ring_sums = []\n",
    "\n",
    "    for ring_edge in range(4, max_edge, 3):\n",
    "        #print(ring_edge-annulus_width, ring_edge)\n",
    "        ring = CircularAnnulus(origin, r_in=ring_edge-annulus_width, r_out=ring_edge)\n",
    "        ring_mask = ring.to_mask(method='center')\n",
    "        image_ring = ring_mask.multiply(image_data/max_ref)\n",
    "        ring_sums.append(np.std(image_ring)) # this is std look at this later \n",
    "    return ring_edges, ring_sums\n",
    "\n",
    "# Spin up our coronagraph given some fpm diameter and lyot diameter and whether it's the simple circular or iris\n",
    "def generate_coronagraph(fpm_diameter, lyot_diameter, plot=False, vmin=-5, vmax=0, aperture_type='iris'):\n",
    "    \n",
    "    wavelength = 638e-9\n",
    "    \n",
    "    pupil_grid = make_pupil_grid(num_pupil_pixels, pupil_grid_diameter)\n",
    "    \n",
    "    iris_aperture  = evaluate_supersampled(make_iris_aperture(), pupil_grid, 6)\n",
    "    circular = evaluate_supersampled(circular_aperture(1), pupil_grid, 6)\n",
    "    aperture = iris_aperture if aperture_type == 'iris' else circular\n",
    "    \n",
    "    lyot_mask = evaluate_supersampled(circular_aperture(lyot_diameter*4), pupil_grid, 4)\n",
    "\n",
    "    pupil_grid = make_pupil_grid(256, 1.5) # this might be totally wrong whoops\n",
    "    focal_grid = make_focal_grid(8, 12)  # same tho\n",
    "    prop = FraunhoferPropagator(pupil_grid, focal_grid)\n",
    "\n",
    "    wf = Wavefront(aperture)\n",
    "    img_ref = prop(wf).intensity\n",
    "\n",
    "    fpm_inverse = evaluate_supersampled(circular_aperture(fpm_diameter), focal_grid, 4)\n",
    "    fpm = fpm_inverse == 0\n",
    "    lyot_coro = LyotCoronagraph(pupil_grid, fpm)\n",
    "    lyot_stop = Apodizer(lyot_mask)\n",
    "    wf = Wavefront(aperture)\n",
    "    lyot_plane = lyot_coro(wf)\n",
    "    post_lyot_mask = lyot_stop(lyot_plane)\n",
    "    img = prop(post_lyot_mask).intensity\n",
    "    if plot:\n",
    "        imshow_field(np.log10(img /img_ref.max()), vmin=vmin, vmax=vmax, cmap='inferno')\n",
    "    return img.shaped, img_ref.max()\n",
    "\n",
    "# create our Keck-adjascent aperture\n",
    "def make_iris_aperture():\n",
    "    segment_flat_diameter = 0.533 # mm \n",
    "    segment_gap = 0.015 # mm \n",
    "    spider_width = 1*0.00850 #mm DOUBLE CHECK ME\n",
    "    segment_transmissions = 1.\n",
    "\n",
    "    segment_circum_diameter = 2 / np.sqrt(3) * segment_flat_diameter #segment circumscribed diameter\n",
    "\n",
    "    num_rings = 3 #number of full rings of hexagons around central segment\n",
    "\n",
    "    segment_positions = make_hexagonal_grid(segment_flat_diameter + segment_gap, num_rings)\n",
    "    segment_positions = segment_positions.subset(lambda grid: ~(circular_aperture(segment_circum_diameter)(grid) > 0))\n",
    "\n",
    "    segment = hexagonal_aperture(segment_circum_diameter, np.pi / 2)\n",
    "\n",
    "    spider1 = make_spider_infinite([0, 0], 0, spider_width) # origin, degree, width \n",
    "    spider2 = make_spider_infinite([0, 0], 60, spider_width) \n",
    "    spider3 = make_spider_infinite([0, 0], 120, spider_width)\n",
    "    spider4 = make_spider_infinite([0, 0], 180, spider_width)\n",
    "    spider5 = make_spider_infinite([0, 0], 240, spider_width)\n",
    "    spider6 = make_spider_infinite([0, 0], 300, spider_width)\n",
    "\n",
    "    segmented_aperture = make_segmented_aperture(segment, segment_positions, segment_transmissions, return_segments=False)\n",
    "    \n",
    "    def func(grid):\n",
    "        res = segmented_aperture(grid) #* spider1(grid) * spider2(grid) * spider3(grid)* spider4(grid) * spider3(grid)* spider5(grid) * spider6(grid) # * coro(grid)\n",
    "        return Field(res, grid)\n",
    "    \n",
    "    return func \n",
    "\n",
    "\n",
    "def make_iris_aperture_no_spiders():\n",
    "    segment_flat_diameter = 0.533 # mm \n",
    "    segment_gap = 0.015 # mm \n",
    "    spider_width = 1*0.00850 #mm DOUBLE CHECK ME\n",
    "    segment_transmissions = 1.\n",
    "\n",
    "    segment_circum_diameter = 2 / np.sqrt(3) * segment_flat_diameter #segment circumscribed diameter\n",
    "\n",
    "    num_rings = 3 #number of full rings of hexagons around central segment\n",
    "\n",
    "    segment_positions = make_hexagonal_grid(segment_flat_diameter + segment_gap, num_rings)\n",
    "    #segment_positions = segment_positions.subset(lambda grid: ~(circular_aperture(segment_circum_diameter)(grid) > 0))\n",
    "\n",
    "    segment = hexagonal_aperture(segment_circum_diameter, np.pi / 2)\n",
    "\n",
    "    spider1 = make_spider_infinite([0, 0], 0, spider_width) # origin, degree, width \n",
    "    spider2 = make_spider_infinite([0, 0], 60, spider_width) \n",
    "    spider3 = make_spider_infinite([0, 0], 120, spider_width)\n",
    "    spider4 = make_spider_infinite([0, 0], 180, spider_width)\n",
    "    spider5 = make_spider_infinite([0, 0], 240, spider_width)\n",
    "    spider6 = make_spider_infinite([0, 0], 300, spider_width)\n",
    "\n",
    "    segmented_aperture = make_segmented_aperture(segment, segment_positions, segment_transmissions, return_segments=False)\n",
    "    \n",
    "\n",
    "    \n",
    "    def func(grid):\n",
    "        res = segmented_aperture(grid) #* spider1(grid) * spider2(grid) * spider3(grid)* spider4(grid) * spider3(grid)* spider5(grid) * spider6(grid) # * coro(grid)\n",
    "        return Field(res, grid)\n",
    "    \n",
    "    return func"
   ]
  },
  {
   "cell_type": "markdown",
   "metadata": {},
   "source": [
    "One extended demo of what's going on here\n",
    "----------------------------------------------------\n",
    "\n",
    "Okay, before we dive into comparing lots of different cases I want to work through one example, which is going to be the complex Keck-like aperture and something that seems vaguely reasonable"
   ]
  },
  {
   "cell_type": "code",
   "execution_count": 6,
   "metadata": {},
   "outputs": [
    {
     "data": {
      "text/plain": [
       "<matplotlib.image.NonUniformImage at 0x7fd16eec2ba8>"
      ]
     },
     "execution_count": 6,
     "metadata": {},
     "output_type": "execute_result"
    },
    {
     "data": {
      "image/png": "[encoded data removed]",
      "text/plain": [
       "<Figure size 720x1440 with 1 Axes>"
      ]
     },
     "metadata": {
      "needs_background": "light"
     },
     "output_type": "display_data"
    }
   ],
   "source": [
    "# Set up the pupil grid\n",
    "pupil_grid_diameter = 4\n",
    "num_pupil_pixels = 240\n",
    "pupil_grid = make_pupil_grid(num_pupil_pixels, pupil_grid_diameter)\n",
    "iris_aperture  = evaluate_supersampled(make_iris_aperture(), pupil_grid, 6)\n",
    "fig = plt.subplots(figsize=(10,20))\n",
    "plt.title('Iris AO Aperture')\n",
    "imshow_field(iris_aperture)"
   ]
  },
  {
   "cell_type": "code",
   "execution_count": null,
   "metadata": {},
   "outputs": [],
   "source": [
    "focal_grid = make_focal_grid(8, 12) \n",
    "prop = FraunhoferPropagator(pupil_grid, focal_grid)\n",
    "wf = Wavefront(iris_aperture)\n",
    "img_ref = prop(wf).intensity\n",
    "\n",
    "lyot_diameter = .95\n",
    "fpm_diameter = 4.75\n",
    "lyot_mask = evaluate_supersampled(circular_aperture(lyot_diameter*4), pupil_grid, 4)\n",
    "fpm_inverse = evaluate_supersampled(circular_aperture(fpm_diameter), focal_grid, 4)\n",
    "fpm = fpm_inverse == 0\n",
    "lyot_coro = LyotCoronagraph(pupil_grid, fpm)\n",
    "lyot_stop = Apodizer(lyot_mask)\n",
    "\n",
    "wf = Wavefront(iris_aperture)\n",
    "lyot_plane = lyot_coro(wf)\n",
    "post_lyot_mask = lyot_stop(lyot_plane)\n",
    "img = prop(post_lyot_mask).intensity\n",
    "ring_edges, ring_sums = calculate_raw_contrast(img.shaped, np.max(img.shaped))\n",
    "\n",
    "fig = plt.subplots(figsize=(15,20))\n",
    "plt.subplot(2, 2, 1)\n",
    "plt.title('Reference PSF (Focal)')\n",
    "imshow_field(np.log10(img_ref/img_ref.max()), vmin=-5)\n",
    "\n",
    "plt.subplot(2, 2, 2)\n",
    "plt.title('Post FPM (Pupil)')\n",
    "imshow_field(lyot_plane.intensity)\n",
    "\n",
    "\n",
    "plt.subplot(2, 2, 3)\n",
    "plt.title('Post Lyot Stop (Focal)')\n",
    "imshow_field(np.log10(img/img_ref.max()), vmin=-5)\n",
    "\n",
    "plt.subplot(2, 2, 4)\n",
    "plt.plot(ring_edges, ring_sums)\n",
    "plt.title('Raw Contrast')\n",
    "plt.xlabel('Pixel Radius')"
   ]
  },
  {
   "cell_type": "code",
   "execution_count": null,
   "metadata": {},
   "outputs": [],
   "source": [
    "# Set up the pupil grid\n",
    "pupil_grid_diameter = 1.1\n",
    "num_pupil_pixels = 240\n",
    "pupil_grid = make_pupil_grid(num_pupil_pixels, pupil_grid_diameter)\n",
    "circle_aperture =  circular = evaluate_supersampled(circular_aperture(1), pupil_grid, 6)\n",
    "fig = plt.subplots(figsize=(10,20))\n",
    "plt.title('Typical Circular Aperture')\n",
    "imshow_field(circle_aperture)"
   ]
  },
  {
   "cell_type": "code",
   "execution_count": null,
   "metadata": {},
   "outputs": [],
   "source": [
    "focal_grid = make_focal_grid(8, 12) \n",
    "prop = FraunhoferPropagator(pupil_grid, focal_grid)\n",
    "wf = Wavefront(circle_aperture)\n",
    "img_ref = prop(wf).intensity\n",
    "\n",
    "lambda_over_d = wavelength / 1e3\n",
    "\n",
    "lyot_diameter = .95\n",
    "fpm_diameter = 8\n",
    "lyot_mask = evaluate_supersampled(circular_aperture(lyot_diameter*1), pupil_grid, 4)\n",
    "fpm_inverse = evaluate_supersampled(circular_aperture(fpm_diameter), focal_grid, 4)\n",
    "fpm = fpm_inverse == 0\n",
    "lyot_coro = LyotCoronagraph(pupil_grid, fpm)\n",
    "lyot_stop = Apodizer(lyot_mask)\n",
    "\n",
    "wf = Wavefront(circle_aperture)\n",
    "lyot_plane = lyot_coro(wf)\n",
    "post_lyot_mask = lyot_stop(lyot_plane)\n",
    "img = prop(post_lyot_mask).intensity\n",
    "ring_edges, ring_sums = calculate_raw_contrast(img.shaped, np.max(img.shaped))\n",
    "\n",
    "fig = plt.subplots(figsize=(15,20))\n",
    "plt.subplot(2, 2, 1)\n",
    "plt.title('Reference PSF (Focal)')\n",
    "imshow_field(np.log10(img_ref/img_ref.max()), vmin=-5)\n",
    "\n",
    "plt.subplot(2, 2, 2)\n",
    "plt.title('Post FPM (Pupil)')\n",
    "imshow_field(lyot_plane.intensity)\n",
    "\n",
    "\n",
    "plt.subplot(2, 2, 3)\n",
    "plt.title('Post Lyot Stop (Focal)')\n",
    "imshow_field(np.log10(img/img_ref.max()), vmin=-5)\n",
    "\n",
    "plt.subplot(2, 2, 4)\n",
    "plt.plot(ring_edges, ring_sums)\n",
    "plt.title('Raw Contrast')\n",
    "plt.xlabel('Pixel Radius')"
   ]
  },
  {
   "cell_type": "markdown",
   "metadata": {},
   "source": [
    "Now For Some Attempt at Optimizing?\n",
    "-----------------------------------\n",
    "\n",
    "Okay, now we attempt to step through and pick some sort of optimized FPM/LS"
   ]
  },
  {
   "cell_type": "code",
   "execution_count": null,
   "metadata": {},
   "outputs": [],
   "source": [
    "#fpm_range = np.arange(3.75, 5, .25)\n",
    "fpm_d = 4.75\n",
    "lyot_range = np.arange(.9, 1.01, .005)\n",
    "\n",
    "min_heat_map, max_heat_map, med_heat_map = np.zeros((len(lyot_range))), np.zeros((len(lyot_range))), np.zeros((len(lyot_range)))\n",
    "\n",
    "plt.clf()\n",
    "fig = plt.subplots(figsize=(10,10))\n",
    "\n",
    "for n, lyot_d in enumerate(lyot_range):\n",
    "    intensity_data, max_val = generate_coronagraph(fpm_d, lyot_d)\n",
    "    ring_edges, ring_sums = calculate_raw_contrast(intensity_data, max_val)\n",
    "    plt.plot(ring_edges, ring_sums)\n",
    "    min_heat_map[n] = np.min(ring_sums)\n",
    "    max_heat_map[n] = np.max(ring_sums)\n",
    "    med_heat_map[n] = np.median(ring_sums)\n",
    "\n",
    "plt.yscale('log')\n",
    "plt.xlabel('Pixel radius')\n",
    "plt.ylabel('Raw Contrast')"
   ]
  },
  {
   "cell_type": "code",
   "execution_count": null,
   "metadata": {},
   "outputs": [],
   "source": [
    "fig = plt.subplots(figsize=(20,5))\n",
    "ax = plt.subplot(1, 3, 1)\n",
    "plt.title('Min Heat Map')\n",
    "plt.plot(lyot_range, min_heat_map) #, vmax=3e-7)\n",
    "#plt.ylabel('FPM Diameter')\n",
    "#ax.set_yticks(np.arange(0, m+1, 1))\n",
    "#ax.set_yticklabels(fpm_range)\n",
    "plt.xlabel('Lyot Diameter / full')\n",
    "\n",
    "plt.subplot(1, 3, 2)\n",
    "plt.title('Max Heat Map')\n",
    "plt.plot(lyot_range, max_heat_map) #, vmax=8e-5)\n",
    "#plt.axis('off')\n",
    "\n",
    "plt.subplot(1, 3, 3)\n",
    "plt.title('Med Heat Map')\n",
    "plt.plot(lyot_range, med_heat_map) #, vmax=7e-6)\n",
    "#plt.axis('off')"
   ]
  },
  {
   "cell_type": "code",
   "execution_count": null,
   "metadata": {},
   "outputs": [],
   "source": [
    "wavelength = 638 # nm\n",
    "diameter = 3.5e3 # nm\n",
    "lambda_over_d = wavelength/diameter\n",
    "lambda_over_d\n",
    "fpm_d = 1.5 * lambda_over_d"
   ]
  },
  {
   "cell_type": "code",
   "execution_count": null,
   "metadata": {},
   "outputs": [],
   "source": []
  },
  {
   "cell_type": "code",
   "execution_count": null,
   "metadata": {},
   "outputs": [],
   "source": [
    "imshow_field(iris_aperture)"
   ]
  },
  {
   "cell_type": "code",
   "execution_count": 18,
   "metadata": {},
   "outputs": [],
   "source": [
    "from astropy.io import fits"
   ]
  },
  {
   "cell_type": "code",
   "execution_count": null,
   "metadata": {},
   "outputs": [],
   "source": [
    "iris_aperture.shaped\n",
    "hdu = fits.PrimaryHDU(iris_aperture.shaped)\n",
    "hdu.writeto('iris_aperture.fits')"
   ]
  },
  {
   "cell_type": "code",
   "execution_count": null,
   "metadata": {},
   "outputs": [],
   "source": [
    "hdu.writeto('iris_aperture.fits')"
   ]
  },
  {
   "cell_type": "code",
   "execution_count": null,
   "metadata": {},
   "outputs": [],
   "source": [
    "pupil_grid_diameter = 4\n",
    "num_pupil_pixels = 240\n",
    "pupil_grid = make_pupil_grid(num_pupil_pixels, pupil_grid_diameter)\n",
    "iris_aperture  = evaluate_supersampled(make_iris_aperture_no_spiders(), pupil_grid, 6)"
   ]
  },
  {
   "cell_type": "code",
   "execution_count": null,
   "metadata": {},
   "outputs": [],
   "source": [
    "imshow_field(iris_aperture)\n",
    "iris_aperture.shaped\n",
    "hdu = fits.PrimaryHDU(iris_aperture.shaped)\n",
    "hdu.writeto('iris_aperture_no_spiders.fits')"
   ]
  },
  {
   "cell_type": "code",
   "execution_count": 8,
   "metadata": {},
   "outputs": [],
   "source": [
    "def make_iris_aperture_no_spiders_no_secondary():\n",
    "    segment_flat_diameter = 0.533 # mm \n",
    "    segment_gap = 0.015 # mm \n",
    "    spider_width = 1*0.00850 #mm DOUBLE CHECK ME\n",
    "    segment_transmissions = 1.\n",
    "\n",
    "    segment_circum_diameter = 2 / np.sqrt(3) * segment_flat_diameter #segment circumscribed diameter\n",
    "\n",
    "    num_rings = 3 #number of full rings of hexagons around central segment\n",
    "\n",
    "    segment_positions = make_hexagonal_grid(segment_flat_diameter + segment_gap, num_rings)\n",
    "   # segment_positions = segment_positions.subset(lambda grid: ~(circular_aperture(segment_circum_diameter)(grid) >= 0))\n",
    "\n",
    "    segment = hexagonal_aperture(segment_circum_diameter, np.pi / 2)\n",
    "\n",
    "\n",
    "    segmented_aperture = make_segmented_aperture(segment, segment_positions, segment_transmissions, return_segments=False)\n",
    "    \n",
    "\n",
    "    def func(grid):\n",
    "        res = segmented_aperture(grid) \n",
    "        return Field(res, grid)"
   ]
  },
  {
   "cell_type": "code",
   "execution_count": 14,
   "metadata": {},
   "outputs": [],
   "source": [
    "pupil_grid_diameter = 4\n",
    "num_pupil_pixels = 240\n",
    "pupil_grid = make_pupil_grid(num_pupil_pixels, pupil_grid_diameter)\n",
    "iris_aperture  = evaluate_supersampled(make_iris_aperture_no_spiders(), pupil_grid, 6)"
   ]
  },
  {
   "cell_type": "code",
   "execution_count": 19,
   "metadata": {},
   "outputs": [
    {
     "data": {
      "image/png": "[encoded data removed]",
      "text/plain": [
       "<Figure size 432x288 with 1 Axes>"
      ]
     },
     "metadata": {
      "needs_background": "light"
     },
     "output_type": "display_data"
    }
   ],
   "source": [
    "imshow_field(iris_aperture)\n",
    "iris_aperture.shaped\n",
    "hdu = fits.PrimaryHDU(iris_aperture.shaped)\n",
    "hdu.writeto('iris_aperture_no_spiders_no_secondary.fits')"
   ]
  },
  {
   "cell_type": "code",
   "execution_count": null,
   "metadata": {},
   "outputs": [],
   "source": []
  }
 ],
 "metadata": {
  "kernelspec": {
   "display_name": "Python 3",
   "language": "python",
   "name": "python3"
  },
  "language_info": {
   "codemirror_mode": {
    "name": "ipython",
    "version": 3
   },
   "file_extension": ".py",
   "mimetype": "text/x-python",
   "name": "python",
   "nbconvert_exporter": "python",
   "pygments_lexer": "ipython3",
   "version": "3.6.10"
  }
 },
 "nbformat": 4,
 "nbformat_minor": 4
}
